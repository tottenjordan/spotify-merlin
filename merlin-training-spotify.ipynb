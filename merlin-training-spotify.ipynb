{
 "cells": [
  {
   "cell_type": "markdown",
   "id": "8ab61e54-c285-419d-84cd-07c21d0d1b4f",
   "metadata": {},
   "source": [
    "# Train Merlin TwoTower model"
   ]
  },
  {
   "cell_type": "markdown",
   "id": "cee605fb-69f0-471d-b4fd-e709a89f1704",
   "metadata": {},
   "source": [
    "### Setup"
   ]
  },
  {
   "cell_type": "code",
   "execution_count": 1,
   "id": "c5ab64fe-6122-4434-9d15-7e1531166cc7",
   "metadata": {},
   "outputs": [],
   "source": [
    "import json\n",
    "import os\n",
    "import time\n",
    "\n",
    "from google.cloud import aiplatform as vertex_ai\n",
    "from google.cloud.aiplatform import hyperparameter_tuning as hpt"
   ]
  },
  {
   "cell_type": "code",
   "execution_count": null,
   "id": "ba1a9e1a-d762-4b87-884e-3989018674e6",
   "metadata": {},
   "outputs": [],
   "source": [
    "\n",
    "\n",
    "\n",
    "\n",
    "# Schema used by the training pipepine\n",
    "# The path must point to the file schema.pbtxt\n",
    "SCHEMA_PATH = "
   ]
  }
 ],
 "metadata": {
  "environment": {
   "kernel": "python3",
   "name": "tf2-gpu.2-9.m94",
   "type": "gcloud",
   "uri": "gcr.io/deeplearning-platform-release/tf2-gpu.2-9:m94"
  },
  "kernelspec": {
   "display_name": "Python 3",
   "language": "python",
   "name": "python3"
  },
  "language_info": {
   "codemirror_mode": {
    "name": "ipython",
    "version": 3
   },
   "file_extension": ".py",
   "mimetype": "text/x-python",
   "name": "python",
   "nbconvert_exporter": "python",
   "pygments_lexer": "ipython3",
   "version": "3.7.12"
  }
 },
 "nbformat": 4,
 "nbformat_minor": 5
}
